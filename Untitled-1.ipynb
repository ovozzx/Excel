{
 "cells": [
  {
   "cell_type": "markdown",
   "metadata": {},
   "source": [
    "# basic function of excel"
   ]
  },
  {
   "cell_type": "markdown",
   "metadata": {},
   "source": [
    "## 1) COUNT(범위) : 숫자가 있는 셀을 count\n",
    "\n",
    "## 2) IF(조건,True일 경우 출력되는 값, False일 경우 출력되는 값)\n",
    "\n",
    "## 3) SUMIF(기준이 포함되어 있는 총 문자 범위, 기준 문자, 숫자로 이루어진 합계를 구할 범위)\n",
    "\n",
    "## 4) COUNTIF(범위, 기준) : 범위에서 기준에 해당하는 것을 count\n",
    "\n",
    "## 5) VLOOKUP(기준, 범위, 범주의 위치, 0) : 범위에서 기준에 해당하는 범주의 값을 갖고 옴\n"
   ]
  }
 ],
 "metadata": {
  "language_info": {
   "name": "python"
  },
  "orig_nbformat": 4
 },
 "nbformat": 4,
 "nbformat_minor": 2
}
